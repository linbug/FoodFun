{
 "cells": [
  {
   "cell_type": "code",
   "execution_count": 2,
   "metadata": {
    "collapsed": true
   },
   "outputs": [],
   "source": [
    "import pandas as pd\n",
    "import pylab\n",
    "import matplotlib.pyplot as plt\n"
   ]
  },
  {
   "cell_type": "code",
   "execution_count": 3,
   "metadata": {
    "collapsed": false
   },
   "outputs": [
    {
     "name": "stdout",
     "output_type": "stream",
     "text": [
      "/Users/Lin/Dropbox/Data science/Fun DS projects/Food_DB/foodb_jan_23_2014.csv\n"
     ]
    }
   ],
   "source": [
    "cd foodb_jan_23_2014.csv/\n"
   ]
  },
  {
   "cell_type": "code",
   "execution_count": 7,
   "metadata": {
    "collapsed": false
   },
   "outputs": [
    {
     "name": "stderr",
     "output_type": "stream",
     "text": [
      "Skipping line 282: expected 18 fields, saw 26\n",
      "Skipping line 726: expected 18 fields, saw 32\n",
      "Skipping line 728: expected 18 fields, saw 19\n",
      "Skipping line 729: expected 18 fields, saw 22\n",
      "Skipping line 730: expected 18 fields, saw 26\n",
      "Skipping line 732: expected 18 fields, saw 25\n",
      "Skipping line 734: expected 18 fields, saw 27\n",
      "Skipping line 737: expected 18 fields, saw 19\n",
      "Skipping line 749: expected 18 fields, saw 19\n",
      "Skipping line 766: expected 18 fields, saw 19\n",
      "Skipping line 782: expected 18 fields, saw 21\n",
      "Skipping line 795: expected 18 fields, saw 19\n",
      "Skipping line 823: expected 18 fields, saw 31\n",
      "Skipping line 825: expected 18 fields, saw 22\n",
      "Skipping line 843: expected 18 fields, saw 22\n",
      "\n"
     ]
    }
   ],
   "source": [
    "foods = pd.read_csv(\"foods.csv\", error_bad_lines=False)"
   ]
  },
  {
   "cell_type": "code",
   "execution_count": 8,
   "metadata": {
    "collapsed": false
   },
   "outputs": [
    {
     "data": {
      "text/html": [
       "<div>\n",
       "<table border=\"1\" class=\"dataframe\">\n",
       "  <thead>\n",
       "    <tr style=\"text-align: right;\">\n",
       "      <th></th>\n",
       "      <th>id</th>\n",
       "      <th>name</th>\n",
       "      <th>name_scientific</th>\n",
       "      <th>description</th>\n",
       "      <th>itis_id</th>\n",
       "      <th>wikipedia_id</th>\n",
       "      <th>picture_file_name</th>\n",
       "      <th>picture_content_type</th>\n",
       "      <th>picture_file_size</th>\n",
       "      <th>picture_updated_at</th>\n",
       "      <th>legacy_id</th>\n",
       "      <th>food_group</th>\n",
       "      <th>food_subgroup</th>\n",
       "      <th>food_type</th>\n",
       "      <th>created_at</th>\n",
       "      <th>updated_at</th>\n",
       "      <th>creator_id</th>\n",
       "      <th>updater_id</th>\n",
       "    </tr>\n",
       "  </thead>\n",
       "  <tbody>\n",
       "    <tr>\n",
       "      <th>0</th>\n",
       "      <td>1</td>\n",
       "      <td>Angelica</td>\n",
       "      <td>Angelica keiskei</td>\n",
       "      <td>NaN</td>\n",
       "      <td>NaN</td>\n",
       "      <td>NaN</td>\n",
       "      <td>1.jpg</td>\n",
       "      <td>image/jpeg</td>\n",
       "      <td>111325</td>\n",
       "      <td>2012-04-20 09:29:57</td>\n",
       "      <td>1</td>\n",
       "      <td>Herbs and Spices</td>\n",
       "      <td>Herbs</td>\n",
       "      <td>Type 1</td>\n",
       "      <td>2011-02-09 00:37:14</td>\n",
       "      <td>2012-04-20 16:29:57</td>\n",
       "      <td>NaN</td>\n",
       "      <td>2</td>\n",
       "    </tr>\n",
       "    <tr>\n",
       "      <th>1</th>\n",
       "      <td>2</td>\n",
       "      <td>Savoy cabbage</td>\n",
       "      <td>Brassica oleracea var. sabauda</td>\n",
       "      <td>NaN</td>\n",
       "      <td>NaN</td>\n",
       "      <td>NaN</td>\n",
       "      <td>2.jpg</td>\n",
       "      <td>image/jpeg</td>\n",
       "      <td>155178</td>\n",
       "      <td>2012-04-20 09:39:54</td>\n",
       "      <td>2</td>\n",
       "      <td>Vegetables</td>\n",
       "      <td>Cabbages</td>\n",
       "      <td>Type 1</td>\n",
       "      <td>2011-02-09 00:37:15</td>\n",
       "      <td>2012-04-20 16:39:55</td>\n",
       "      <td>NaN</td>\n",
       "      <td>NaN</td>\n",
       "    </tr>\n",
       "    <tr>\n",
       "      <th>2</th>\n",
       "      <td>3</td>\n",
       "      <td>Silver linden</td>\n",
       "      <td>Tilia argentea</td>\n",
       "      <td>NaN</td>\n",
       "      <td>NaN</td>\n",
       "      <td>NaN</td>\n",
       "      <td>3.jpg</td>\n",
       "      <td>image/jpeg</td>\n",
       "      <td>56367</td>\n",
       "      <td>2012-04-20 09:41:25</td>\n",
       "      <td>3</td>\n",
       "      <td>Herbs and Spices</td>\n",
       "      <td>Herbs</td>\n",
       "      <td>Type 1</td>\n",
       "      <td>2011-02-09 00:37:15</td>\n",
       "      <td>2012-04-20 16:41:26</td>\n",
       "      <td>NaN</td>\n",
       "      <td>NaN</td>\n",
       "    </tr>\n",
       "    <tr>\n",
       "      <th>3</th>\n",
       "      <td>4</td>\n",
       "      <td>Kiwi</td>\n",
       "      <td>Actinidia chinensis</td>\n",
       "      <td>NaN</td>\n",
       "      <td>506775</td>\n",
       "      <td>NaN</td>\n",
       "      <td>4.jpg</td>\n",
       "      <td>image/jpeg</td>\n",
       "      <td>110661</td>\n",
       "      <td>2012-04-20 09:32:21</td>\n",
       "      <td>4</td>\n",
       "      <td>Fruits</td>\n",
       "      <td>Tropical fruits</td>\n",
       "      <td>Type 1</td>\n",
       "      <td>2011-02-09 00:37:15</td>\n",
       "      <td>2012-04-20 16:32:22</td>\n",
       "      <td>NaN</td>\n",
       "      <td>NaN</td>\n",
       "    </tr>\n",
       "    <tr>\n",
       "      <th>4</th>\n",
       "      <td>5</td>\n",
       "      <td>Allium (Onion)</td>\n",
       "      <td>Allium</td>\n",
       "      <td>NaN</td>\n",
       "      <td>42634</td>\n",
       "      <td>NaN</td>\n",
       "      <td>5.jpg</td>\n",
       "      <td>image/jpeg</td>\n",
       "      <td>341911</td>\n",
       "      <td>2012-04-20 09:37:44</td>\n",
       "      <td>5</td>\n",
       "      <td>Vegetables</td>\n",
       "      <td>Onion-family vegetables</td>\n",
       "      <td>Type 1</td>\n",
       "      <td>2011-02-09 00:37:15</td>\n",
       "      <td>2012-04-20 16:37:45</td>\n",
       "      <td>NaN</td>\n",
       "      <td>NaN</td>\n",
       "    </tr>\n",
       "  </tbody>\n",
       "</table>\n",
       "</div>"
      ],
      "text/plain": [
       "  id            name                 name_scientific description itis_id  \\\n",
       "0  1        Angelica                Angelica keiskei         NaN     NaN   \n",
       "1  2   Savoy cabbage  Brassica oleracea var. sabauda         NaN     NaN   \n",
       "2  3   Silver linden                  Tilia argentea         NaN     NaN   \n",
       "3  4            Kiwi             Actinidia chinensis         NaN  506775   \n",
       "4  5  Allium (Onion)                          Allium         NaN   42634   \n",
       "\n",
       "  wikipedia_id picture_file_name picture_content_type picture_file_size  \\\n",
       "0          NaN             1.jpg           image/jpeg            111325   \n",
       "1          NaN             2.jpg           image/jpeg            155178   \n",
       "2          NaN             3.jpg           image/jpeg             56367   \n",
       "3          NaN             4.jpg           image/jpeg            110661   \n",
       "4          NaN             5.jpg           image/jpeg            341911   \n",
       "\n",
       "    picture_updated_at legacy_id        food_group            food_subgroup  \\\n",
       "0  2012-04-20 09:29:57         1  Herbs and Spices                    Herbs   \n",
       "1  2012-04-20 09:39:54         2        Vegetables                 Cabbages   \n",
       "2  2012-04-20 09:41:25         3  Herbs and Spices                    Herbs   \n",
       "3  2012-04-20 09:32:21         4            Fruits          Tropical fruits   \n",
       "4  2012-04-20 09:37:44         5        Vegetables  Onion-family vegetables   \n",
       "\n",
       "  food_type           created_at           updated_at  creator_id  updater_id  \n",
       "0    Type 1  2011-02-09 00:37:14  2012-04-20 16:29:57         NaN           2  \n",
       "1    Type 1  2011-02-09 00:37:15  2012-04-20 16:39:55         NaN         NaN  \n",
       "2    Type 1  2011-02-09 00:37:15  2012-04-20 16:41:26         NaN         NaN  \n",
       "3    Type 1  2011-02-09 00:37:15  2012-04-20 16:32:22         NaN         NaN  \n",
       "4    Type 1  2011-02-09 00:37:15  2012-04-20 16:37:45         NaN         NaN  "
      ]
     },
     "execution_count": 8,
     "metadata": {},
     "output_type": "execute_result"
    }
   ],
   "source": [
    "foods.head()"
   ]
  },
  {
   "cell_type": "code",
   "execution_count": 11,
   "metadata": {
    "collapsed": false
   },
   "outputs": [
    {
     "data": {
      "text/plain": [
       "878"
      ]
     },
     "execution_count": 11,
     "metadata": {},
     "output_type": "execute_result"
    }
   ],
   "source": [
    "len(foods)"
   ]
  },
  {
   "cell_type": "code",
   "execution_count": 13,
   "metadata": {
    "collapsed": false
   },
   "outputs": [
    {
     "data": {
      "text/plain": [
       "array(['Herbs and Spices', 'Vegetables', 'Fruits', 'Nuts',\n",
       "       'Cereals and cereal products', 'Pulses', 'Teas', nan,\n",
       "       '2011-02-09 00:37:17', 'Gourds', 'Coffee and coffee products',\n",
       "       'Soy', 'Cocoa and cocoa products', '2011-02-09 00:37:27',\n",
       "       'Beverages', 'Aquatic foods', 'Animal foods', '2011-02-09 00:37:41',\n",
       "       'Milk and milk products', 'Eggs', 'Confectioneries', 'Baking goods',\n",
       "       'Dishes', 'Snack foods', 'Baby foods', 'Unclassified',\n",
       "       'Fats and oils', '2012-01-10 02:28:37'], dtype=object)"
      ]
     },
     "execution_count": 13,
     "metadata": {},
     "output_type": "execute_result"
    }
   ],
   "source": [
    "foods.food_group.unique()"
   ]
  },
  {
   "cell_type": "code",
   "execution_count": 32,
   "metadata": {
    "collapsed": true
   },
   "outputs": [],
   "source": [
    "valid_foods = ['Herbs and Spices', 'Vegetables', 'Fruits', 'Nuts',\n",
    "       'Cereals and cereal products', 'Pulses', 'Teas'\n",
    "       , 'Gourds', 'Coffee and coffee products',\n",
    "       'Soy', 'Cocoa and cocoa products',\n",
    "       'Beverages', 'Aquatic foods', 'Animal foods',\n",
    "       'Milk and milk products', 'Eggs', 'Confectioneries', 'Baking goods',\n",
    "       'Dishes', 'Snack foods', 'Baby foods', 'Unclassified','Fats and oils']"
   ]
  },
  {
   "cell_type": "code",
   "execution_count": 33,
   "metadata": {
    "collapsed": false
   },
   "outputs": [
    {
     "data": {
      "text/plain": [
       "39                     NaN\n",
       "40     2011-02-09 00:37:17\n",
       "231                    NaN\n",
       "232    2011-02-09 00:37:27\n",
       "233                    NaN\n",
       "234    2011-02-09 00:37:27\n",
       "436                    NaN\n",
       "437    2011-02-09 00:37:41\n",
       "851                    NaN\n",
       "852    2012-01-10 02:28:37\n",
       "Name: food_group, dtype: object"
      ]
     },
     "execution_count": 33,
     "metadata": {},
     "output_type": "execute_result"
    }
   ],
   "source": [
    "#there's some mess in this file; it needs to be cleaed up to get rid of the rows that are errors\n",
    "#doesn't seem to be too many of them.\n",
    "foods[\"food_group\"][~foods[\"food_group\"].isin(valid_foods)]"
   ]
  },
  {
   "cell_type": "code",
   "execution_count": 35,
   "metadata": {
    "collapsed": false
   },
   "outputs": [],
   "source": [
    "foods = foods[foods[\"food_group\"].isin(valid_foods)]"
   ]
  },
  {
   "cell_type": "code",
   "execution_count": 36,
   "metadata": {
    "collapsed": false
   },
   "outputs": [
    {
     "data": {
      "text/plain": [
       "Series([], Name: food_group, dtype: object)"
      ]
     },
     "execution_count": 36,
     "metadata": {},
     "output_type": "execute_result"
    }
   ],
   "source": [
    "foods[\"food_group\"][~foods[\"food_group\"].isin(valid_foods)]"
   ]
  },
  {
   "cell_type": "code",
   "execution_count": null,
   "metadata": {
    "collapsed": true
   },
   "outputs": [],
   "source": []
  }
 ],
 "metadata": {
  "kernelspec": {
   "display_name": "Python 2",
   "language": "python",
   "name": "python2"
  },
  "language_info": {
   "codemirror_mode": {
    "name": "ipython",
    "version": 2
   },
   "file_extension": ".py",
   "mimetype": "text/x-python",
   "name": "python",
   "nbconvert_exporter": "python",
   "pygments_lexer": "ipython2",
   "version": "2.7.10"
  }
 },
 "nbformat": 4,
 "nbformat_minor": 0
}
